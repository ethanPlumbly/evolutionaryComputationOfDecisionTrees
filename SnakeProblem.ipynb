{
 "cells": [
  {
   "cell_type": "markdown",
   "metadata": {},
   "source": [
    "This version of the snake game allows you to implement and run your evolutionary algorithm"
   ]
  },
  {
   "cell_type": "code",
   "execution_count": 1,
   "metadata": {},
   "outputs": [],
   "source": [
    "import random\n",
    "import time\n",
    "import turtle\n",
    "\n",
    "\n",
    "import copy\n",
    "import random\n",
    "import numpy\n",
    "#import pygraphviz as pgv\n",
    "from IPython.display import clear_output\n",
    "from functools import partial\n",
    "\n",
    "from deap import base\n",
    "from deap import creator\n",
    "from deap import tools\n",
    "from deap import gp"
   ]
  },
  {
   "cell_type": "code",
   "execution_count": 2,
   "metadata": {},
   "outputs": [],
   "source": [
    "XSIZE = YSIZE = 16 # Number of grid cells in each direction (do not change this)"
   ]
  },
  {
   "cell_type": "markdown",
   "metadata": {},
   "source": [
    "Change headless to True when evolving your solution. You can then pickle your final solution, and run it with this set to True to visualize the result, if you wish. Note that, when using Turtle,  to run it again properly you might need to go to restart your kernel after the visualization has finished."
   ]
  },
  {
   "cell_type": "markdown",
   "metadata": {},
   "source": [
    "If you are running on the cloud, or on Google Colab, you can chose to remove the turtle and display code altogether and only run headless. You could then pickle your best solution and use this code to see it play."
   ]
  },
  {
   "cell_type": "code",
   "execution_count": 3,
   "metadata": {},
   "outputs": [],
   "source": [
    "HEADLESS = False"
   ]
  },
  {
   "cell_type": "code",
   "execution_count": 4,
   "metadata": {},
   "outputs": [],
   "source": [
    "class DisplayGame:\n",
    "    def __init__(self, XSIZE, YSIZE):\n",
    "        # SCREEN\n",
    "        self.win = turtle.Screen()\n",
    "        self.win.title(\"EVCO Snake game\")\n",
    "        self.win.bgcolor(\"grey\")\n",
    "        self.win.setup(width=(XSIZE*20)+40,height=(YSIZE*20)+40)\n",
    "        #self.win.screensize((XSIZE*20)+20,(YSIZE*20)+20)\n",
    "        self.win.tracer(0)\n",
    "\n",
    "        #Snake Head\n",
    "        self.head = turtle.Turtle()\n",
    "        self.head.shape(\"square\")\n",
    "        self.head.color(\"black\")\n",
    "\n",
    "        # Snake food\n",
    "        self.food = turtle.Turtle()\n",
    "        self.food.shape(\"circle\")\n",
    "        self.food.color(\"yellow\")\n",
    "        self.food.penup()\n",
    "        self.food.shapesize(0.55, 0.55)\n",
    "        self.segments = []\n",
    "\n",
    "    def reset(self, snake):\n",
    "        self.segments = []\n",
    "        self.head.penup()\n",
    "        self.food.goto(-500, -500)\n",
    "        self.head.goto(-500, -500)\n",
    "        for i in range(len(snake)-1):\n",
    "            self.add_snake_segment()\n",
    "        self.update_segment_positions(snake)\n",
    "       \n",
    "    def update_food(self,new_food):\n",
    "        self.food.goto(((new_food[1]-9)*20)+20, (((9-new_food[0])*20)-10)-20)\n",
    "        \n",
    "    def update_segment_positions(self, snake):\n",
    "        self.head.goto(((snake[0][1]-9)*20)+20, (((9-snake[0][0])*20)-10)-20)\n",
    "        for i in range(len(self.segments)):\n",
    "            self.segments[i].goto(((snake[i+1][1]-9)*20)+20, (((9-snake[i+1][0])*20)-10)-20)\n",
    "\n",
    "    def add_snake_segment(self):\n",
    "        self.new_segment = turtle.Turtle()\n",
    "        self.new_segment.speed(0)\n",
    "        self.new_segment.shape(\"square\")\n",
    "        self.new_segment.color(random.choice([\"green\",'black','red','blue']))\n",
    "        self.new_segment.penup()\n",
    "        self.segments.append(self.new_segment)"
   ]
  },
  {
   "cell_type": "code",
   "execution_count": 5,
   "metadata": {},
   "outputs": [],
   "source": [
    "class snake:\n",
    "    def __init__(self, _XSIZE, _YSIZE):\n",
    "        self.XSIZE = _XSIZE\n",
    "        self.YSIZE = _YSIZE\n",
    "        self.reset()\n",
    "\n",
    "    def reset(self):\n",
    "        self.snake = [[8,10], [8,9], [8,8], [8,7], [8,6], [8,5], [8,4], [8,3], [8,2], [8,1],[8,0] ]# Initial snake co-ordinates [ypos,xpos]    \n",
    "        self.food = self.place_food()\n",
    "        #self.ahead = []\n",
    "        self.left = []\n",
    "        self.right = []\n",
    "        self.up = []\n",
    "        self.down = []\n",
    "        self.snake_direction = \"right\"\n",
    "\n",
    "    def place_food(self):\n",
    "        self.food = [random.randint(1, (YSIZE-2)), random.randint(1, (XSIZE-2))]\n",
    "        while (self.food in self.snake):\n",
    "            self.food = [random.randint(1, (YSIZE-2)), random.randint(1, (XSIZE-2))]\n",
    "        return( self.food )\n",
    "    \n",
    "    def update_snake_position(self):\n",
    "        self.snake.insert(0, [self.snake[0][0] + (self.snake_direction == \"down\" and 1) + (self.snake_direction == \"up\" and -1), self.snake[0][1] + (self.snake_direction == \"left\" and -1) + (self.snake_direction == \"right\" and 1)])\n",
    "\n",
    "    def food_eaten(self):\n",
    "        if self.snake[0] == self.food:                                            # When snake eats the food\n",
    "            return True\n",
    "        else:    \n",
    "            last = self.snake.pop()  # [1] If it does not eat the food, it moves forward and so last tail item is removed\n",
    "            return False\n",
    "            \n",
    "    def snake_turns_into_self(self):\n",
    "        if self.snake[0] in self.snake[1:]:\n",
    "            return True\n",
    "        else:\n",
    "            return False\n",
    "\n",
    "    def snake_hit_wall(self):\n",
    "        if self.snake[0][0] == 0 or self.snake[0][0] == (YSIZE-1) or self.snake[0][1] == 0 or self.snake[0][1] == (XSIZE-1):\n",
    "            return True\n",
    "        else:\n",
    "            return False\n",
    "\n",
    "    # Example sensing functions\n",
    "    def getLeftLocation(self):\n",
    "        self.left = [ self.snake[0][0] - 1, self.snake[0][0] ]\n",
    "        \n",
    "    def sense_wall_left(self):\n",
    "        self.getLeftLocation()\n",
    "        return( self.left[0] == 0 or self.left[0] == (YSIZE-1) or self.left[1] == 0 or self.left[1] == (XSIZE-1) )\n",
    "        \n",
    "    def if_wall_left(self, out1, out2):\n",
    "        return partial(if_then_else, self.sense_wall_left, out1, out2) \n",
    "        \n",
    "    def sense_food_left(self):\n",
    "        self.getLeftLocation()\n",
    "        return self.food == self.left\n",
    "    \n",
    "    def if_food_left(self, out1, out2):\n",
    "        return partial(if_then_else, self.sense_food_left, out1, out2) \n",
    "\n",
    "    def sense_tail_left(self):\n",
    "        self.getLeftLocation()\n",
    "        return self.left in self.snake\n",
    "    \n",
    "    def if_tail_left(self, out1, out2):\n",
    "        return partial(if_then_else, self.sense_tail_left, out1, out2) \n",
    "        \n",
    "    def getRightLocation(self):\n",
    "        self.right = [ self.snake[0][0] + 1, self.snake[0][0] ]\n",
    "        \n",
    "    def sense_wall_right(self):\n",
    "        self.getRightLocation()\n",
    "        return( self.right[0] == 0 or self.right[0] == (YSIZE-1) or self.right[1] == 0 or self.right[1] == (XSIZE-1) )\n",
    "        \n",
    "    def if_wall_right(self, out1, out2):\n",
    "        return partial(if_then_else, self.sense_wall_right, out1, out2) \n",
    "        \n",
    "    def sense_food_right(self):\n",
    "        self.getRightLocation()\n",
    "        return self.food == self.right\n",
    "    \n",
    "    def if_food_right(self, out1, out2):\n",
    "        return partial(if_then_else, self.sense_food_right, out1, out2) \n",
    "\n",
    "    def sense_tail_right(self):\n",
    "        self.getRightLocation()\n",
    "        return self.right in self.snake\n",
    "    \n",
    "    def if_tail_right(self, out1, out2):\n",
    "        return partial(if_then_else, self.sense_tail_right, out1, out2) \n",
    "        \n",
    "    def getUpLocation(self):\n",
    "        self.up = [ self.snake[0][0], self.snake[0][0] + 1 ]\n",
    "        \n",
    "    def sense_wall_up(self):\n",
    "        self.getUpLocation()\n",
    "        return( self.up[0] == 0 or self.up[0] == (YSIZE-1) or self.up[1] == 0 or self.up[1] == (XSIZE-1) )\n",
    "        \n",
    "    def if_wall_up(self, out1, out2):\n",
    "        return partial(if_then_else, self.sense_wall_up, out1, out2) \n",
    "        \n",
    "    def sense_food_up(self):\n",
    "        self.getUpLocation()\n",
    "        return self.food == self.up\n",
    "    \n",
    "    def if_food_up(self, out1, out2):\n",
    "        return partial(if_then_else, self.sense_food_up, out1, out2) \n",
    "\n",
    "    def sense_tail_up(self):\n",
    "        self.getUpLocation()\n",
    "        return self.up in self.snake\n",
    "    \n",
    "    def if_tail_up(self, out1, out2):\n",
    "        return partial(if_then_else, self.sense_tail_up, out1, out2)     \n",
    "        \n",
    "    def getDownLocation(self):\n",
    "        self.down = [ self.snake[0][0], self.snake[0][0] - 1 ]\n",
    "\n",
    "    def sense_wall_down(self):\n",
    "        self.getDownLocation()\n",
    "        return( self.down[0] == 0 or self.down[0] == (YSIZE-1) or self.down[1] == 0 or self.down[1] == (XSIZE-1) )\n",
    "        \n",
    "    def if_wall_down(self, out1, out2):\n",
    "        return partial(if_then_else, self.sense_wall_down, out1, out2) \n",
    "        \n",
    "    def sense_food_down(self):\n",
    "        self.getDownLocation()\n",
    "        return self.food == self.down\n",
    "    \n",
    "    def if_food_down(self, out1, out2):\n",
    "        return partial(if_then_else, self.sense_food_down, out1, out2) \n",
    "\n",
    "    def sense_tail_down(self):\n",
    "        self.getDownLocation()\n",
    "        return self.down in self.snake\n",
    "    \n",
    "    def if_tail_down(self, out1, out2):\n",
    "        return partial(if_then_else, self.sense_tail_down, out1, out2)     \n",
    "        \n",
    "    def getAheadLocation(self):\n",
    "        self.ahead = [ self.snake[0][0] + (self.snake_direction == \"down\" and 1) + (self.snake_direction == \"up\" and -1), self.snake[0][1] + (self.snake_direction == \"left\" and -1) + (self.snake_direction == \"right\" and 1)] \n",
    "        \n",
    "    def sense_wall_ahead(self):\n",
    "        self.getAheadLocation()\n",
    "        return( self.ahead[0] == 0 or self.ahead[0] == (YSIZE-1) or self.ahead[1] == 0 or self.ahead[1] == (XSIZE-1) )\n",
    "        \n",
    "    def if_wall_ahead(self, out1, out2):\n",
    "        return partial(if_then_else, self.sense_wall_ahead, out1, out2) \n",
    "        \n",
    "    def sense_food_ahead(self):\n",
    "        self.getAheadLocation()\n",
    "        return self.food == self.ahead\n",
    "    \n",
    "    def if_food_ahead(self, out1, out2):\n",
    "        return partial(if_then_else, self.sense_food_ahead, out1, out2) \n",
    "\n",
    "    def sense_tail_ahead(self):\n",
    "        self.getAheadLocation()\n",
    "        return self.ahead in self.snake\n",
    "    \n",
    "    def if_tail_ahead(self, out1, out2):\n",
    "        return partial(if_then_else, self.sense_tail_ahead, out1, out2)     \n",
    "\n",
    "    def sense_food_on_axis(self):\n",
    "        return (self.snake[0][0] == self.food[0]) or (self.snake[0][1] == self.food[1]) \n",
    "    \n",
    "    def if_food_on_axis(self, out1, out2):\n",
    "        return partial(if_then_else, self.sense_food_on_axis, out1, out2) \n",
    "    \n",
    "    def sense_food_leftwards(self):\n",
    "        return (self.sense_food_on_axis and (self.snake[0][0] < self.food[0]))\n",
    "    \n",
    "    def if_food_leftwards(self, out1, out2):\n",
    "        return partial(if_then_else, self.sense_food_leftwards, out1, out2)\n",
    "    \n",
    "    def sense_food_rightwards(self):\n",
    "        return (self.sense_food_on_axis and (self.snake[0][0] > self.food[0]))\n",
    "    \n",
    "    def if_food_rightwards(self, out1, out2):\n",
    "        return partial(if_then_else, self.sense_food_rightwards, out1, out2)\n",
    "    \n",
    "    def sense_food_upwards(self):\n",
    "        return (self.sense_food_on_axis and (self.snake[0][1] > self.food[1]))\n",
    "    \n",
    "    def if_food_upwards(self, out1, out2):\n",
    "        return partial(if_then_else, self.sense_food_upwards, out1, out2)\n",
    "    \n",
    "    def sense_food_downwards(self):\n",
    "        return (self.sense_food_on_axis and (self.snake[0][1] < self.food[1]))\n",
    "    \n",
    "    def if_food_downwards(self, out1, out2):\n",
    "        return partial(if_then_else, self.sense_food_downwards, out1, out2)\n",
    "        \n",
    "    def turn_right(self):\n",
    "        self.snake_direction = \"right\"\n",
    "    \n",
    "    def turn_left(self):\n",
    "        self.snake_direction = \"left\"\n",
    "    \n",
    "    def turn_up(self):\n",
    "        self.snake_direction = \"up\"\n",
    "    \n",
    "    def turn_down(self):\n",
    "        self.snake_direction = \"down\""
   ]
  },
  {
   "cell_type": "code",
   "execution_count": 6,
   "metadata": {},
   "outputs": [],
   "source": [
    "snake_game = snake(XSIZE,YSIZE)"
   ]
  },
  {
   "cell_type": "code",
   "execution_count": 7,
   "metadata": {},
   "outputs": [],
   "source": [
    "if not HEADLESS:\n",
    "    display = DisplayGame(XSIZE,YSIZE)"
   ]
  },
  {
   "cell_type": "code",
   "execution_count": 8,
   "metadata": {},
   "outputs": [],
   "source": [
    "def run_game(display,snake_game, routine, headless):\n",
    "    steps = 0\n",
    "    score = 0\n",
    "    snake_game.reset()\n",
    "    if not headless:\n",
    "        display.reset(snake_game.snake)\n",
    "        display.win.update()\n",
    "    snake_game.place_food()\n",
    "    game_over = False\n",
    "    snake_direction = \"right\"\n",
    "\n",
    "    flag = True\n",
    "    while not game_over:\n",
    "        routine()\n",
    "        snake_game.update_snake_position()\n",
    "        steps += 1\n",
    "        \n",
    "        if steps == 1000: game_over = True\n",
    "            \n",
    "        # Check if food is eaten\n",
    "        if snake_game.food_eaten():\n",
    "            snake_game.place_food()\n",
    "            steps = 0\n",
    "            score += 1\n",
    "            if not headless: display.add_snake_segment()\n",
    "\n",
    "        # Game over if the snake runs over itself\n",
    "        if snake_game.snake_turns_into_self():\n",
    "            game_over = True\n",
    "            #print(\"Snake turned into itself!\")\n",
    "\n",
    "        # Game over if the snake goes through a wall\n",
    "        if snake_game.snake_hit_wall():\n",
    "            game_over = True\n",
    "            #print(\"Snake hit a wall!\")\n",
    "\n",
    "        if not headless:       \n",
    "            display.update_food(snake_game.food)\n",
    "            display.update_segment_positions(snake_game.snake)\n",
    "            display.win.update()\n",
    "            time.sleep(0.2) # Change this to modify the speed the game runs at when displayed.\n",
    "            \n",
    "    return score, steps\n",
    "    if not headless: turtle.done()\n"
   ]
  },
  {
   "cell_type": "code",
   "execution_count": 9,
   "metadata": {},
   "outputs": [],
   "source": [
    "pset = gp.PrimitiveSet(\"MAIN\",0)"
   ]
  },
  {
   "cell_type": "code",
   "execution_count": 10,
   "metadata": {},
   "outputs": [],
   "source": [
    "def progn(*args):\n",
    "    for arg in args:\n",
    "        arg()\n",
    "        \n",
    "def prog2(out1, out2): \n",
    "    return partial(progn,out1,out2)\n",
    "\n",
    "def prog3(out1, out2, out3):\n",
    "    return partial(progn,out1,out2,out3)\n",
    "\n",
    "def prog4(out1, out2, out3, out4):\n",
    "    return partial(progn,out1,out2,out3,out4)\n",
    "\n",
    "def if_then_else(condition, out1, out2):\n",
    "    out1() if condition() else out2()\n",
    "    \n",
    "pset.addPrimitive(snake_game.if_wall_up,2)\n",
    "pset.addPrimitive(snake_game.if_food_upwards,2)\n",
    "pset.addPrimitive(snake_game.if_tail_up,2)\n",
    "pset.addPrimitive(snake_game.if_wall_left,2)\n",
    "pset.addPrimitive(snake_game.if_food_leftwards,2)\n",
    "pset.addPrimitive(snake_game.if_tail_left,2)\n",
    "pset.addPrimitive(snake_game.if_wall_right,2)\n",
    "pset.addPrimitive(snake_game.if_food_rightwards,2)\n",
    "pset.addPrimitive(snake_game.if_tail_right,2)\n",
    "pset.addPrimitive(snake_game.if_wall_down,2)\n",
    "pset.addPrimitive(snake_game.if_food_downwards,2)\n",
    "pset.addPrimitive(snake_game.if_tail_down,2)\n",
    "pset.addPrimitive(prog2, 2)\n",
    "pset.addPrimitive(prog3, 3)\n",
    "pset.addPrimitive(prog4, 4)\n",
    "\n",
    "pset.addTerminal(snake_game.turn_right)\n",
    "pset.addTerminal(snake_game.turn_left)\n",
    "pset.addTerminal(snake_game.turn_up)\n",
    "pset.addTerminal(snake_game.turn_down)"
   ]
  },
  {
   "cell_type": "code",
   "execution_count": 11,
   "metadata": {},
   "outputs": [],
   "source": [
    "creator.create(\"MultiFitness\", base.Fitness, weights=(50.0,1.0,-0.1))\n",
    "creator.create(\"Individual\", gp.PrimitiveTree, fitness=creator.MultiFitness)"
   ]
  },
  {
   "cell_type": "code",
   "execution_count": 12,
   "metadata": {},
   "outputs": [],
   "source": [
    "toolbox = base.Toolbox()\n",
    "toolbox.register(\"expr_init\", gp.genHalfAndHalf, pset=pset, min_=2, max_=5)\n",
    "toolbox.register(\"individual\", tools.initIterate, creator.Individual, toolbox.expr_init)\n",
    "toolbox.register(\"population\", tools.initRepeat, list, toolbox.individual)"
   ]
  },
  {
   "cell_type": "code",
   "execution_count": 13,
   "metadata": {},
   "outputs": [],
   "source": [
    "toolbox.register(\"select\", tools.selDoubleTournament, fitness_size = 7, parsimony_size = 1.4, fitness_first = True)\n",
    "toolbox.register(\"mate\", gp.cxOnePoint)\n",
    "toolbox.register(\"expr_mut\", gp.genFull, min_=0, max_=5)\n",
    "toolbox.register(\"mutate\", gp.mutUniform, expr=toolbox.expr_mut, pset=pset)"
   ]
  },
  {
   "cell_type": "code",
   "execution_count": 14,
   "metadata": {},
   "outputs": [],
   "source": [
    "def evaluate(individual):\n",
    "    routine = gp.compile(individual, pset)\n",
    "    individual_score_total, individual_steps_total = 0, 0\n",
    "    for attempt in range(3):\n",
    "        individual_score, individual_steps = run_game(display,snake_game, routine, headless=True)\n",
    "        individual_score_total += individual_score\n",
    "        individual_steps_total += individual_steps\n",
    "    return individual_score_total, individual_steps_total, individual.height\n",
    "\n",
    "toolbox.register(\"evaluate\", evaluate)"
   ]
  },
  {
   "cell_type": "code",
   "execution_count": 15,
   "metadata": {},
   "outputs": [],
   "source": [
    "stats_fit = tools.Statistics(lambda ind: ind.fitness.values)\n",
    "stats_size = tools.Statistics(len)\n",
    "stats = tools.MultiStatistics(fitness=stats_fit, size=stats_size)\n",
    "\n",
    "stats.register(\"avg\", numpy.mean)\n",
    "stats.register(\"std\", numpy.std)\n",
    "stats.register(\"min\", numpy.min)\n",
    "stats.register(\"max\", numpy.max)"
   ]
  },
  {
   "cell_type": "code",
   "execution_count": 16,
   "metadata": {},
   "outputs": [
    {
     "name": "stdout",
     "output_type": "stream",
     "text": [
      "-- Generation 199 --\n"
     ]
    }
   ],
   "source": [
    "logbook = tools.Logbook()\n",
    "pop = toolbox.population(n=500)\n",
    "\n",
    "NGEN, CXPB, MUTPB = 200, 0.2, 0.2\n",
    "fitnesses = list(map(toolbox.evaluate, pop))\n",
    "for ind, fit in zip(pop, fitnesses):\n",
    "    ind.fitness.values = fit\n",
    "    \n",
    "for g in range(NGEN):\n",
    "    clear_output(wait=True)\n",
    "    print(\"-- Generation %i --\" % g)\n",
    "    \n",
    "    offspring = toolbox.select(pop, len(pop))\n",
    "\n",
    "    offspring = list(map(toolbox.clone, offspring))\n",
    "    \n",
    "    for child1, child2 in zip(offspring[::2], offspring[1::2]):\n",
    "        if random.random() < CXPB:\n",
    "            toolbox.mate(child1, child2)\n",
    "            del child1.fitness.values\n",
    "            del child2.fitness.values\n",
    "            \n",
    "    for mutant in offspring:\n",
    "        if random.random() < MUTPB:\n",
    "            toolbox.mutate(mutant)\n",
    "            del mutant.fitness.values\n",
    "            \n",
    "    invalid_ind = [ind for ind in offspring if not ind.fitness.valid]\n",
    "    fitnesses = map(toolbox.evaluate, invalid_ind)\n",
    "    for ind, fit in zip(invalid_ind, fitnesses):\n",
    "        ind.fitness.values = fit\n",
    "        \n",
    "    Neval = len(invalid_ind) \n",
    "    pop[:] = offspring\n",
    "    \n",
    "    record = stats.compile(pop)\n",
    "    \n",
    "    logbook.record(gen=g, evals=Neval, **record)"
   ]
  },
  {
   "cell_type": "code",
   "execution_count": 17,
   "metadata": {},
   "outputs": [],
   "source": [
    "pset_original = gp.PrimitiveSet(\"MAIN\",0)\n",
    "    \n",
    "pset_original.addPrimitive(snake_game.if_wall_ahead,2)\n",
    "pset_original.addPrimitive(snake_game.if_food_ahead,2)\n",
    "pset_original.addPrimitive(snake_game.if_tail_ahead,2)\n",
    "pset_original.addPrimitive(prog2, 2)\n",
    "pset_original.addPrimitive(prog3, 3)\n",
    "pset_original.addPrimitive(prog4, 4)\n",
    "\n",
    "pset_original.addTerminal(snake_game.turn_right)\n",
    "pset_original.addTerminal(snake_game.turn_left)\n",
    "pset_original.addTerminal(snake_game.turn_up)\n",
    "pset_original.addTerminal(snake_game.turn_down)"
   ]
  },
  {
   "cell_type": "code",
   "execution_count": 18,
   "metadata": {},
   "outputs": [
    {
     "name": "stdout",
     "output_type": "stream",
     "text": [
      "-- Generation 199 --\n"
     ]
    }
   ],
   "source": [
    "toolbox.register(\"expr_init\", gp.genHalfAndHalf, pset=pset_original, min_=2, max_=5)\n",
    "toolbox.register(\"individual\", tools.initIterate, creator.Individual, toolbox.expr_init)\n",
    "toolbox.register(\"population\", tools.initRepeat, list, toolbox.individual)\n",
    "\n",
    "toolbox.register(\"mutate\", gp.mutUniform, expr=toolbox.expr_mut, pset=pset_original)\n",
    "\n",
    "def evaluate_original(individual):\n",
    "    routine = gp.compile(individual, pset_original)\n",
    "    individual_score_total, individual_steps_total = 0, 0\n",
    "    for attempt in range(3):\n",
    "        individual_score, individual_steps = run_game(display,snake_game, routine, headless=True)\n",
    "        individual_score_total += individual_score\n",
    "        individual_steps_total += individual_steps\n",
    "    return individual_score_total, individual_steps_total, individual.height\n",
    "\n",
    "toolbox.register(\"evaluate_original\", evaluate_original)\n",
    "\n",
    "logbook_original = tools.Logbook()\n",
    "pop_original = toolbox.population(n=500)\n",
    "\n",
    "fitnesses = list(map(toolbox.evaluate_original, pop_original))\n",
    "for ind, fit in zip(pop_original, fitnesses):\n",
    "    ind.fitness.values = fit\n",
    "    \n",
    "for g in range(NGEN):\n",
    "    clear_output(wait=True)\n",
    "    print(\"-- Generation %i --\" % g)\n",
    "    \n",
    "    offspring = toolbox.select(pop_original, len(pop_original))\n",
    "\n",
    "    offspring = list(map(toolbox.clone, offspring))\n",
    "    \n",
    "    for child1, child2 in zip(offspring[::2], offspring[1::2]):\n",
    "        if random.random() < CXPB:\n",
    "            toolbox.mate(child1, child2)\n",
    "            del child1.fitness.values\n",
    "            del child2.fitness.values\n",
    "            \n",
    "    for mutant in offspring:\n",
    "        if random.random() < MUTPB:\n",
    "            toolbox.mutate(mutant)\n",
    "            del mutant.fitness.values\n",
    "            \n",
    "    invalid_ind = [ind for ind in offspring if not ind.fitness.valid]\n",
    "    fitnesses = map(toolbox.evaluate_original, invalid_ind)\n",
    "    for ind, fit in zip(invalid_ind, fitnesses):\n",
    "        ind.fitness.values = fit\n",
    "        \n",
    "    Neval = len(invalid_ind) \n",
    "    pop_original[:] = offspring\n",
    "    \n",
    "    record = stats.compile(pop_original)\n",
    "    \n",
    "    logbook_original.record(gen=g, evals=Neval, **record)"
   ]
  },
  {
   "cell_type": "code",
   "execution_count": 19,
   "metadata": {},
   "outputs": [
    {
     "data": {
      "text/plain": [
       "Text(0, 0.5, 'Fitness')"
      ]
     },
     "execution_count": 19,
     "metadata": {},
     "output_type": "execute_result"
    },
    {
     "data": {
      "image/png": "[encoded data removed]",
      "text/plain": [
       "<Figure size 432x288 with 1 Axes>"
      ]
     },
     "metadata": {
      "needs_background": "light"
     },
     "output_type": "display_data"
    }
   ],
   "source": [
    "import matplotlib.pyplot as plt\n",
    "%matplotlib inline\n",
    "\n",
    "gen = logbook.chapters['fitness'].select(\"gen\")\n",
    "_min = logbook.chapters['fitness'].select(\"min\")\n",
    "_max = logbook.chapters['fitness'].select(\"max\")\n",
    "avgs = logbook.chapters['fitness'].select(\"avg\")\n",
    "stds = logbook.chapters['fitness'].select(\"std\")\n",
    "\n",
    "gen_original = logbook_original.chapters['fitness'].select(\"gen\")\n",
    "_min_original = logbook_original.chapters['fitness'].select(\"min\")\n",
    "_max_original = logbook_original.chapters['fitness'].select(\"max\")\n",
    "avgs_original = logbook_original.chapters['fitness'].select(\"avg\")\n",
    "stds_original = logbook_original.chapters['fitness'].select(\"std\")\n",
    "\n",
    "plt.rc('axes', labelsize=14)\n",
    "plt.rc('xtick', labelsize=14)\n",
    "plt.rc('ytick', labelsize=14) \n",
    "plt.rc('legend', fontsize=14)\n",
    "\n",
    "fig, ax1 = plt.subplots()\n",
    "line1 = ax1.plot(gen, avgs)\n",
    "ax1.set_xlabel(\"Generation\")\n",
    "ax1.set_ylabel(\"Fitness\")\n",
    "\n",
    "line2 = ax1.plot(gen, _min)\n",
    "line3 = ax1.plot(gen, _max)"
   ]
  },
  {
   "cell_type": "code",
   "execution_count": 20,
   "metadata": {},
   "outputs": [
    {
     "data": {
      "text/plain": [
       "<matplotlib.legend.Legend at 0x21c534e74f0>"
      ]
     },
     "execution_count": 20,
     "metadata": {},
     "output_type": "execute_result"
    },
    {
     "data": {
      "image/png": "[encoded data removed]",
      "text/plain": [
       "<Figure size 720x504 with 1 Axes>"
      ]
     },
     "metadata": {
      "needs_background": "light"
     },
     "output_type": "display_data"
    }
   ],
   "source": [
    "plt.rcParams.update({'font.size': 20})\n",
    "\n",
    "fig = plt.figure(figsize =(10, 7)) \n",
    "ax = fig.add_axes([0, 0, 1, 1]) \n",
    "ax.set_xlabel('Generation')\n",
    "ax.set_ylabel('Mean Fitness')\n",
    "ax.plot(gen, avgs, lw=3, label='Improved', color='blue')\n",
    "ax.fill_between(gen, [i + j for i, j in zip(avgs, stds)], [i - j for i, j in zip(avgs, stds)], facecolor='blue', alpha=0.5)\n",
    "ax.plot(gen, avgs_original, lw=3, label='Original', color='orange')\n",
    "ax.fill_between(gen, [i + j for i, j in zip(avgs_original, stds_original)], [i - j for i, j in zip(avgs_original, stds_original)], facecolor='orange', alpha=0.5)\n",
    "ax.legend(loc='best', fancybox=True, framealpha=0.5)"
   ]
  },
  {
   "cell_type": "code",
   "execution_count": 21,
   "metadata": {},
   "outputs": [
    {
     "name": "stderr",
     "output_type": "stream",
     "text": [
      "<ipython-input-21-c19efdae102f>:4: UserWarning: FixedFormatter should only be used together with FixedLocator\n",
      "  ax.set_xticklabels(['Improved', 'Original'])\n"
     ]
    },
    {
     "data": {
      "image/png": "[encoded data removed]",
      "text/plain": [
       "<Figure size 720x504 with 1 Axes>"
      ]
     },
     "metadata": {
      "needs_background": "light"
     },
     "output_type": "display_data"
    }
   ],
   "source": [
    "data = [avgs, avgs_original] \n",
    "fig = plt.figure(figsize =(10, 7)) \n",
    "ax = fig.add_axes([0, 0, 1, 1]) \n",
    "ax.set_xticklabels(['Improved', 'Original']) \n",
    "\n",
    "ax.set_xlabel('Condition')\n",
    "ax.set_ylabel('Fitness')\n",
    "\n",
    "bp = ax.boxplot(data)"
   ]
  },
  {
   "cell_type": "code",
   "execution_count": 22,
   "metadata": {},
   "outputs": [
    {
     "name": "stdout",
     "output_type": "stream",
     "text": [
      "Statistics=19465.500, p=0.322\n"
     ]
    }
   ],
   "source": [
    "from scipy.stats import mannwhitneyu\n",
    "stat, p = mannwhitneyu(avgs, avgs_original)\n",
    "print('Statistics=%.3f, p=%.3f' % (stat, p))"
   ]
  },
  {
   "cell_type": "code",
   "execution_count": 23,
   "metadata": {},
   "outputs": [
    {
     "name": "stdout",
     "output_type": "stream",
     "text": [
      "if_food_rightwards(if_wall_up(turn_up, if_food_downwards(turn_right, turn_up)), if_tail_right(if_wall_up(turn_up, if_tail_left(if_tail_down(if_food_upwards(turn_right, turn_right), turn_down), if_food_downwards(if_tail_left(turn_right, prog3(if_tail_left(if_tail_up(turn_down, if_food_downwards(prog2(turn_right, turn_left), prog4(turn_right, turn_up, turn_right, turn_left))), if_wall_left(if_tail_down(prog2(turn_down, turn_right), prog3(turn_down, turn_right, turn_left)), if_wall_right(if_tail_right(turn_left, turn_left), if_food_downwards(turn_right, turn_right)))), if_wall_right(if_wall_left(if_tail_down(prog2(turn_down, turn_right), prog3(turn_down, turn_right, turn_left)), if_wall_right(if_tail_right(turn_left, turn_left), if_food_downwards(turn_right, turn_right))), prog2(if_tail_down(if_tail_right(turn_up, turn_up), if_tail_up(turn_right, turn_down)), if_food_upwards(prog2(turn_right, turn_right), prog3(turn_left, turn_down, turn_left)))), prog2(prog3(if_food_downwards(if_tail_right(turn_up, turn_up), if_tail_right(turn_right, turn_up)), if_wall_down(if_wall_left(turn_right, turn_right), if_wall_up(turn_right, turn_up)), if_food_upwards(if_food_rightwards(turn_right, turn_down), if_food_downwards(turn_down, turn_right))), prog4(if_tail_up(prog2(turn_down, turn_left), prog4(turn_left, turn_up, turn_right, turn_down)), turn_right, if_food_rightwards(if_wall_down(turn_right, turn_right), if_wall_down(turn_right, turn_right)), prog3(if_tail_right(turn_right, turn_left), prog3(turn_right, turn_up, turn_down), if_wall_up(turn_right, turn_right)))))), if_wall_left(turn_down, turn_left)))), if_tail_up(prog2(turn_right, turn_down), if_food_upwards(turn_left, turn_down))))\n",
      "11\n"
     ]
    }
   ],
   "source": [
    "indv = tools.selBest(pop,1)[0]\n",
    "print(indv)\n",
    "print(indv.height)"
   ]
  },
  {
   "cell_type": "code",
   "execution_count": 24,
   "metadata": {},
   "outputs": [
    {
     "name": "stdout",
     "output_type": "stream",
     "text": [
      "prog2(prog4(if_wall_ahead(prog3(turn_right, turn_left, turn_right), prog3(turn_up, turn_right, turn_left)), if_tail_ahead(prog4(turn_right, turn_up, turn_down, turn_up), if_wall_ahead(turn_up, turn_right)), prog4(if_wall_ahead(turn_down, turn_left), prog4(turn_right, turn_down, turn_up, turn_up), if_food_ahead(turn_up, turn_down), if_food_ahead(prog4(turn_right, turn_down, turn_down, turn_right), if_wall_ahead(turn_up, turn_up))), if_food_ahead(prog4(turn_right, turn_down, turn_down, turn_right), if_wall_ahead(turn_up, turn_up))), prog4(if_wall_ahead(prog4(turn_left, turn_down, turn_down, turn_down), prog3(turn_down, if_tail_ahead(prog4(if_wall_ahead(turn_down, turn_right), prog3(turn_up, turn_right, turn_up), prog3(turn_down, turn_up, turn_right), if_food_ahead(turn_down, turn_left)), prog2(if_tail_ahead(turn_up, turn_right), if_food_ahead(turn_down, turn_left))), turn_down)), if_tail_ahead(prog4(turn_left, turn_right, turn_right, turn_down), if_food_ahead(turn_down, turn_down)), prog4(if_food_ahead(turn_down, turn_up), if_wall_ahead(turn_right, turn_down), if_tail_ahead(turn_down, prog2(if_wall_ahead(prog4(prog4(prog2(turn_right, turn_right), prog3(turn_down, turn_left, turn_down), prog3(turn_down, turn_right, turn_up), if_food_ahead(turn_up, turn_left)), if_food_ahead(prog4(turn_down, turn_left, turn_left, turn_right), if_tail_ahead(turn_down, turn_down)), if_tail_ahead(if_tail_ahead(turn_down, turn_down), if_tail_ahead(turn_up, turn_up)), prog4(prog4(turn_right, turn_right, turn_right, turn_up), prog3(turn_left, turn_down, turn_right), if_food_ahead(turn_down, turn_right), if_food_ahead(turn_down, turn_down))), if_wall_ahead(if_tail_ahead(if_wall_ahead(turn_right, turn_down), if_tail_ahead(turn_up, turn_up)), prog2(prog2(turn_up, turn_up), if_wall_ahead(turn_up, turn_right)))), if_tail_ahead(prog3(prog2(if_wall_ahead(turn_left, turn_right), if_tail_ahead(turn_left, turn_left)), if_food_ahead(if_tail_ahead(turn_left, turn_down), if_tail_ahead(turn_up, turn_right)), if_food_ahead(prog3(turn_down, turn_up, turn_right), if_food_ahead(turn_left, turn_right))), prog4(prog3(prog4(turn_down, turn_left, turn_right, turn_left), prog3(turn_right, turn_down, turn_left), if_wall_ahead(turn_right, turn_left)), if_wall_ahead(prog4(turn_right, turn_down, turn_right, turn_right), if_food_ahead(turn_left, turn_down)), if_food_ahead(if_food_ahead(turn_up, turn_left), prog3(turn_down, turn_down, turn_right)), if_wall_ahead(prog3(turn_right, turn_right, turn_left), if_tail_ahead(turn_down, turn_down)))))), if_tail_ahead(turn_up, turn_down)), prog4(if_food_ahead(turn_down, turn_left), if_food_ahead(turn_down, turn_up), if_food_ahead(turn_right, turn_up), if_tail_ahead(prog4(turn_right, prog3(turn_right, turn_left, turn_down), prog4(turn_left, turn_left, turn_down, turn_down), if_food_ahead(turn_up, prog3(turn_up, turn_left, turn_left))), turn_down))))\n",
      "9\n"
     ]
    }
   ],
   "source": [
    "indv_original = tools.selBest(pop_original,1)[0]\n",
    "print(indv_original)\n",
    "print(indv_original.height)"
   ]
  },
  {
   "cell_type": "code",
   "execution_count": 25,
   "metadata": {},
   "outputs": [],
   "source": [
    "#nodes, edges, labels = gp.graph(indv)\n",
    "#\n",
    "#tree = pgv.AGraph()\n",
    "#tree.add_nodes_from(nodes)\n",
    "#tree.add_edges_from(edges)\n",
    "#tree.layout(prog=\"dot\")\n",
    "#\n",
    "#for i in nodes:\n",
    "#    n = tree.get_node(i)\n",
    "#    n.attr[\"label\"] = labels[i]"
   ]
  },
  {
   "cell_type": "code",
   "execution_count": 26,
   "metadata": {},
   "outputs": [],
   "source": [
    "#from IPython.display import Image\n",
    "#\n",
    "#treePlot = tree.draw(format='png', prog='dot')\n",
    "#Image(treePlot)"
   ]
  },
  {
   "cell_type": "code",
   "execution_count": null,
   "metadata": {},
   "outputs": [],
   "source": [
    "while True: run_game(display, snake_game, gp.compile(indv, pset), headless=HEADLESS)"
   ]
  },
  {
   "cell_type": "markdown",
   "metadata": {},
   "source": [
    " "
   ]
  }
 ],
 "metadata": {
  "kernelspec": {
   "display_name": "Python 3",
   "language": "python",
   "name": "python3"
  },
  "language_info": {
   "codemirror_mode": {
    "name": "ipython",
    "version": 3
   },
   "file_extension": ".py",
   "mimetype": "text/x-python",
   "name": "python",
   "nbconvert_exporter": "python",
   "pygments_lexer": "ipython3",
   "version": "3.8.5"
  }
 },
 "nbformat": 4,
 "nbformat_minor": 4
}
